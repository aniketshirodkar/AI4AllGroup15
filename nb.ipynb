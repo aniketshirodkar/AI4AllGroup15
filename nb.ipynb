{
 "cells": [
  {
   "cell_type": "code",
   "execution_count": 36,
   "metadata": {},
   "outputs": [],
   "source": [
    "# Import necessary libraries\n",
    "import pandas as pd\n",
    "from sklearn.model_selection import train_test_split\n",
    "from sklearn.feature_extraction.text import CountVectorizer\n",
    "from sklearn.naive_bayes import MultinomialNB\n",
    "\n",
    "# Load the data from the CSV file\n",
    "# This file should have a 'text' column for the text of the tweets and an 'emotion' column for the labels\n",
    "df = pd.read_csv('emotionDataset/training.csv')\n",
    "\n",
    "label_dict = {\n",
    "    0: 'sadness',\n",
    "    1: 'joy',\n",
    "    2: 'love',\n",
    "    3: 'anger',\n",
    "    4: 'fear'\n",
    "}\n",
    "\n",
    "# Initialize a CountVectorizer, which will convert the text into a bag-of-words representation\n",
    "vectorizer = CountVectorizer()\n",
    "\n",
    "# Apply the vectorizer to the 'text' column of the dataframe\n",
    "# This will convert the text into a matrix where each row corresponds to a tweet and each column corresponds to a word\n",
    "# The value in each cell is the number of times the word appears in the tweet\n",
    "X = vectorizer.fit_transform(df['text'])\n",
    "\n",
    "# The 'emotion' column is our target variable\n",
    "y = df['label']\n",
    "\n",
    "# Split the data into a training set and a test set\n",
    "# The model will be trained on the training set and then evaluated on the test set\n",
    "X_train, X_test, y_train, y_test = train_test_split(X, y, test_size=0.2, random_state=42)\n"
   ]
  },
  {
   "cell_type": "code",
   "execution_count": 37,
   "metadata": {},
   "outputs": [
    {
     "name": "stdout",
     "output_type": "stream",
     "text": [
      "0.7375\n"
     ]
    }
   ],
   "source": [
    "# Initialize a Multinomial Naive Bayes model\n",
    "# This is a simple type of machine learning model that is often used for text classification tasks\n",
    "model = MultinomialNB()\n",
    "\n",
    "# Train the model on the training data\n",
    "model.fit(X_train, y_train)\n",
    "\n",
    "# Evaluate the model on the test data\n",
    "# This will print the accuracy of the model, which is the proportion of tweets for which the predicted label matches the true label\n",
    "print(model.score(X_test, y_test))"
   ]
  },
  {
   "cell_type": "code",
   "execution_count": 38,
   "metadata": {},
   "outputs": [],
   "source": [
    "# Function to predict the emotion of a given sentence\n",
    "def predict_emotion(sentence):\n",
    "    # Preprocess the input sentence in the same way as the training data\n",
    "    X_input = vectorizer.transform([sentence])\n",
    "\n",
    "    # Use the trained model to predict the label of the sentence\n",
    "    label = model.predict(X_input)\n",
    "\n",
    "    # Return the predicted label\n",
    "    return label[0]"
   ]
  },
  {
   "cell_type": "code",
   "execution_count": 39,
   "metadata": {},
   "outputs": [
    {
     "name": "stdout",
     "output_type": "stream",
     "text": [
      "1 joy\n"
     ]
    }
   ],
   "source": [
    "# Ask the user to input a sentence\n",
    "sentence = input(\"Enter a sentence: \")\n",
    "\n",
    "# Use the predict_emotion function to predict the label of the input sentence\n",
    "print(f\"{predict_emotion(sentence)} : {label_dict[predict_emotion(sentence)]}\")"
   ]
  }
 ],
 "metadata": {
  "kernelspec": {
   "display_name": "Python 3",
   "language": "python",
   "name": "python3"
  },
  "language_info": {
   "codemirror_mode": {
    "name": "ipython",
    "version": 3
   },
   "file_extension": ".py",
   "mimetype": "text/x-python",
   "name": "python",
   "nbconvert_exporter": "python",
   "pygments_lexer": "ipython3",
   "version": "3.11.4"
  }
 },
 "nbformat": 4,
 "nbformat_minor": 2
}
